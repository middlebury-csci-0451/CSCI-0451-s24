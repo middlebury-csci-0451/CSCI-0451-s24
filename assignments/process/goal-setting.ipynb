{
 "cells": [
  {
   "cell_type": "raw",
   "metadata": {},
   "source": [
    "---\n",
    "title: \"Reflective Goal-Setting\"\n",
    "type: \"Reflection\"\n",
    "date: 2024-02-27 \n",
    "description: |\n",
    "    We plan our goals for learning, engagement, and achievement over the course of the semester. \n",
    "objectives: \n",
    "  - Reflection\n",
    "publish: \"true\"\n",
    "---"
   ]
  },
  {
   "cell_type": "markdown",
   "metadata": {},
   "source": [
    "# Instructions\n",
    "\n",
    "- [Download this notebook](https://middlebury-csci-0451.github.io/CSCI-0451-s24/assignments/process/goal-setting.ipynb)\n",
    "- Open the notebook in an editor of your choice (I recommend either VSCode or JupyterLab). \n",
    "- Delete the first two cells of the notebook (i.e. this one and the raw cell above). \n",
    "- In each of the spaces provided, write down some goals describing what you believe success will look like **for you** in CSCI 0451. I've offered some [ideas to help you get started](ideas.qmd) in case you're not sure, but you shouldn't feel constrained by these. \n",
    "- You may want to look at the [end-of-course reflection activity](end-of-course.ipynb) in which you'll look back on your goals and propose a letter grade that reflects your learning, participation, and achievement in the course. You might especially want to look at [the data](end-of-course.ipynb#the-data) that I'll ask you to log and [what a grade sounds like](end-of-course.ipynb#your-proposed-letter-grade).\n",
    "- Submit the notebook as a PDF on Canvas. \n",
    "\n",
    "I'll respond to your submission with feedback on your goals. I may ask you to display more or less ambition in some of your goals; in that case, I'll ask you to revise and resubmit. \n",
    "\n",
    "*There are lots of ways to render Jupyter notebooks as PDFs. The simplest way is to run this at the command line, after you've navigated to the location of the notebook*: \n",
    "\n",
    "```bash\n",
    "jupyter nbconvert --to pdf goal-setting.ipynb\n",
    "```"
   ]
  },
  {
   "cell_type": "markdown",
   "metadata": {},
   "source": [
    "# CSCI 0451: Reflective Goal-Setting\n",
    "\n",
    "[your name here]"
   ]
  },
  {
   "cell_type": "markdown",
   "metadata": {},
   "source": [
    "## What You'll Learn\n",
    "\n",
    "*The knowledge we'll develop in CSCI 0451 can be broadly divided into four main areas:*\n",
    "\n",
    "- ***Theory***: *mathematical descriptions of frameworks and algorithms.*\n",
    "- ***Implementation***: *effective coding and use of tools in order to implement efficient machine learning algorithms.*\n",
    "- ***Experimentation***: *performing experiments to assess the performance of algorithms and clearly communicating about the results.*\n",
    "- ***Social responsibility***: *critical analysis of sources of bias and harm in machine learning algorithms; theoretical formulations of fairness and bias*\n",
    "\n",
    "*Every student should grow toward each of these areas, but you can choose to specialize if you'd like! If there are one or two of these categories on which you'd especially like to focus, list them below. Feel free to include any details that you'd like -- this can help me tailor the course content to your interests.*"
   ]
  },
  {
   "cell_type": "markdown",
   "metadata": {},
   "source": [
    "[your response here]"
   ]
  },
  {
   "cell_type": "markdown",
   "metadata": {},
   "source": [
    "## What You'll Achieve\n",
    "\n",
    "### Blog Posts\n",
    "\n",
    "*Most blog posts will require around 5-8 hours on average to complete, plus time for revisions in response to feedback. Blog posts will most frequently involve a mix of mathematical problem-solving, coding, experimentation, and written discussion. Some blog posts will ask you to critically discuss recent readings in an essay-like format.*"
   ]
  },
  {
   "cell_type": "markdown",
   "metadata": {},
   "source": [
    "[your response here]"
   ]
  },
  {
   "cell_type": "markdown",
   "metadata": {},
   "source": [
    "### Course Presence (Participation)\n",
    "\n",
    "*You make a choice each day about how to show up for class: whether you'll be prepared, whether you'll engage with me and your peers in a constructive manner; and whether you'll be active during lecture and discussions. We will also have a special opportunity this semester to engage with a renowned expert in machine learning, algorithmic bias, and the ethics of artificial intelligence.*\n",
    "\n",
    "*An especially important form of course presence is the daily warmup. We'll spend the first 10-15 minutes of most class periods on warmup activities. You're expected to have prepared the warmup activity ahead of time (this means you'll need to have completed the readings as well). Each time, we'll sort into groups of 5-6 students, and one of you (randomly selected) will be responsible for presenting the activity on the whiteboard. If you're not feeling prepared to present the activity, you can \"pass\" to the next person, or ask for help along the way.*"
   ]
  },
  {
   "cell_type": "markdown",
   "metadata": {},
   "source": [
    "[your response here]"
   ]
  },
  {
   "cell_type": "markdown",
   "metadata": {},
   "source": [
    "### Project \n",
    "\n",
    "*To finish off the course, you'll complete a long-term project that showcases your interests and skills. You'll be free to propose and pursue a topic. My expectation is that most projects will move significantly beyond the content covered in class in some way: you might implement a new algorithm, study a complex data set in depth, or conduct a series of experiments related to assessing algorithmic bias in a certain class of algorithm. You'll be expected to complete this project in small groups (of your choosing), and update us at a few milestones along the way.*\n",
    "\n",
    "*Please share a bit about what kind of topic might excite you, and set a few goals about how you plan to show up as a constructive team-member and co-inquirer (see the [ideas](ideas.qmd) for some inspiration*). "
   ]
  },
  {
   "cell_type": "markdown",
   "metadata": {},
   "source": [
    "[your response here]"
   ]
  }
 ],
 "metadata": {
  "kernelspec": {
   "display_name": "ml-0451",
   "language": "python",
   "name": "python3"
  },
  "language_info": {
   "name": "python",
   "version": "3.9.15"
  },
  "vscode": {
   "interpreter": {
    "hash": "debe06cc0f9553f110b64dc3926c05df82dae2145b852c8422b9c04315589dcb"
   }
  }
 },
 "nbformat": 4,
 "nbformat_minor": 4
}
